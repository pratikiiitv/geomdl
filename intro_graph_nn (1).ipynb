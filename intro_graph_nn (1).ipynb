{
 "cells": [
  {
   "cell_type": "code",
   "execution_count": 1,
   "metadata": {},
   "outputs": [],
   "source": [
    "import numpy as np\n",
    "import networkx as nx\n",
    "import matplotlib.pyplot as plt"
   ]
  },
  {
   "cell_type": "code",
   "execution_count": 2,
   "metadata": {},
   "outputs": [],
   "source": [
    "A = np.array([\n",
    "    [0,1,0,0],\n",
    "    [0,0,1,1],\n",
    "    [0,1,0,0],\n",
    "    [1,0,1,0]],\n",
    "    dtype=float\n",
    ")"
   ]
  },
  {
   "cell_type": "code",
   "execution_count": 3,
   "metadata": {},
   "outputs": [],
   "source": [
    "myGraph = nx.DiGraph(A)"
   ]
  },
  {
   "cell_type": "code",
   "execution_count": 4,
   "metadata": {},
   "outputs": [
    {
     "data": {
      "image/png": "[encoded data removed]",
      "text/plain": [
       "<Figure size 432x288 with 1 Axes>"
      ]
     },
     "metadata": {},
     "output_type": "display_data"
    }
   ],
   "source": [
    "nx.draw_networkx(myGraph)\n",
    "plt.show()"
   ]
  },
  {
   "cell_type": "code",
   "execution_count": 5,
   "metadata": {},
   "outputs": [
    {
     "name": "stdout",
     "output_type": "stream",
     "text": [
      "[[ 0.  0.]\n",
      " [ 1. -1.]\n",
      " [ 2. -2.]\n",
      " [ 3. -3.]]\n"
     ]
    }
   ],
   "source": [
    "X = np.matrix([\n",
    "            [i, -i]\n",
    "            for i in range(A.shape[0])\n",
    "        ], dtype=float)\n",
    "print(X)"
   ]
  },
  {
   "cell_type": "code",
   "execution_count": 6,
   "metadata": {},
   "outputs": [
    {
     "data": {
      "text/plain": [
       "matrix([[ 1., -1.],\n",
       "        [ 5., -5.],\n",
       "        [ 1., -1.],\n",
       "        [ 2., -2.]])"
      ]
     },
     "execution_count": 6,
     "metadata": {},
     "output_type": "execute_result"
    }
   ],
   "source": [
    "A*X"
   ]
  },
  {
   "cell_type": "code",
   "execution_count": 7,
   "metadata": {},
   "outputs": [
    {
     "data": {
      "text/plain": [
       "matrix([[ 1., -1.],\n",
       "        [ 6., -6.],\n",
       "        [ 3., -3.],\n",
       "        [ 5., -5.]])"
      ]
     },
     "execution_count": 7,
     "metadata": {},
     "output_type": "execute_result"
    }
   ],
   "source": [
    "I = np.matrix(np.eye(A.shape[0]))\n",
    "A_hat = A + I\n",
    "A_hat * X"
   ]
  },
  {
   "cell_type": "code",
   "execution_count": 8,
   "metadata": {
    "scrolled": true
   },
   "outputs": [
    {
     "name": "stdout",
     "output_type": "stream",
     "text": [
      "[[1. 0. 0. 0.]\n",
      " [0. 2. 0. 0.]\n",
      " [0. 0. 2. 0.]\n",
      " [0. 0. 0. 1.]]\n"
     ]
    }
   ],
   "source": [
    "D = np.array(np.sum(A, axis=0))\n",
    "D = np.matrix(np.diag(D))\n",
    "print(D)"
   ]
  },
  {
   "cell_type": "code",
   "execution_count": 9,
   "metadata": {},
   "outputs": [
    {
     "name": "stdout",
     "output_type": "stream",
     "text": [
      "[[2. 0. 0. 0.]\n",
      " [0. 3. 0. 0.]\n",
      " [0. 0. 3. 0.]\n",
      " [0. 0. 0. 2.]]\n"
     ]
    }
   ],
   "source": [
    "D_hat = np.sum(np.array(A_hat), axis=0)\n",
    "D_hat = np.matrix(np.diag(D_hat))\n",
    "print(D_hat)"
   ]
  },
  {
   "cell_type": "code",
   "execution_count": 10,
   "metadata": {},
   "outputs": [
    {
     "data": {
      "text/plain": [
       "matrix([[0.41391023, 0.34727569],\n",
       "        [0.9426461 , 0.89556822],\n",
       "        [0.70674049, 0.6198029 ],\n",
       "        [0.97581986, 0.94800558]])"
      ]
     },
     "execution_count": 10,
     "metadata": {},
     "output_type": "execute_result"
    }
   ],
   "source": [
    "X1 = D_hat**-1 * A_hat * X\n",
    "W1 = np.random.normal(loc=0, scale=1, size=(2,2))\n",
    "X11 = np.tanh(X1*W1)\n",
    "X11"
   ]
  },
  {
   "cell_type": "code",
   "execution_count": 11,
   "metadata": {},
   "outputs": [
    {
     "data": {
      "text/plain": [
       "[<matplotlib.lines.Line2D at 0x7f8afe310cd0>]"
      ]
     },
     "execution_count": 11,
     "metadata": {},
     "output_type": "execute_result"
    },
    {
     "data": {
      "image/png": "[encoded data removed]",
      "text/plain": [
       "<Figure size 432x288 with 1 Axes>"
      ]
     },
     "metadata": {
      "needs_background": "light"
     },
     "output_type": "display_data"
    }
   ],
   "source": [
    "plt.plot(X1[:,0],X1[:,1],'.')"
   ]
  },
  {
   "cell_type": "code",
   "execution_count": 12,
   "metadata": {},
   "outputs": [],
   "source": [
    "from networkx import karate_club_graph, to_numpy_matrix\n",
    "from torch_geometric.utils import to_networkx\n",
    "\n",
    "zkc = karate_club_graph()\n",
    "order = sorted(list(zkc.nodes))\n",
    "A = to_numpy_matrix(zkc, nodelist=order)\n",
    "I = np.eye(zkc.number_of_nodes())\n",
    "A_h = A + I\n",
    "D_h = np.array(np.sum(np.array(A_h), axis=0))\n",
    "D_h = np.matrix(np.diag(D_h))\n",
    "W_1 = np.random.normal(loc=0, scale=1, size=(zkc.number_of_nodes(),4))\n",
    "W_2 = np.random.normal(loc=0, scale=1, size=(W_1.shape[1],2))\n",
    "\n",
    "def relu(X):\n",
    "    return np.maximum(0,X)\n",
    "\n",
    "def softmax(X):\n",
    "    expo = np.exp(X)\n",
    "    expo_sum = np.sum(np.exp(X))\n",
    "    return expo/expo_sum\n",
    "\n",
    "def gcn_layer(A_hat, D_hat, X, W):\n",
    "    return (D_hat**-1 * A_hat * X * W)\n",
    "\n",
    "H_1 = gcn_layer(A_h, D_h, I, W_1)\n",
    "H_2 = gcn_layer(A_h, D_h, H_1, W_2)\n",
    "\n",
    "output = np.tanh(H_2)"
   ]
  },
  {
   "cell_type": "code",
   "execution_count": 13,
   "metadata": {},
   "outputs": [
    {
     "data": {
      "image/png": "[encoded data removed]",
      "text/plain": [
       "<Figure size 432x288 with 1 Axes>"
      ]
     },
     "metadata": {},
     "output_type": "display_data"
    }
   ],
   "source": [
    "nx.draw_networkx(zkc, pos=nx.spring_layout(zkc, seed=42), with_labels=False,\n",
    "                          cmap=\"Set2\")\n",
    "plt.show()"
   ]
  },
  {
   "cell_type": "code",
   "execution_count": 14,
   "metadata": {},
   "outputs": [
    {
     "data": {
      "text/plain": [
       "[<matplotlib.lines.Line2D at 0x7f8afe365c50>]"
      ]
     },
     "execution_count": 14,
     "metadata": {},
     "output_type": "execute_result"
    },
    {
     "data": {
      "image/png": "[encoded data removed]",
      "text/plain": [
       "<Figure size 432x288 with 1 Axes>"
      ]
     },
     "metadata": {
      "needs_background": "light"
     },
     "output_type": "display_data"
    }
   ],
   "source": [
    "plt.plot(output[:,0],output[:,1],'.')"
   ]
  },
  {
   "cell_type": "code",
   "execution_count": 15,
   "metadata": {},
   "outputs": [],
   "source": [
    "callgraph = np.loadtxt('fgraph_G.txt', dtype=str)\n",
    "callentityunique = np.unique(callgraph[:])\n",
    "callentityunique\n",
    "callGraph = nx.DiGraph()\n",
    "callGraph.add_nodes_from(callentityunique)\n",
    "callGraph.add_edges_from(callgraph)\n",
    "Order = sorted(list(callGraph.nodes))\n",
    "callG = to_numpy_matrix(callGraph, nodelist=Order)\n",
    "callG_hat = callG + np.matrix(np.eye(callG.shape[0]))\n"
   ]
  },
  {
   "cell_type": "code",
   "execution_count": 16,
   "metadata": {},
   "outputs": [
    {
     "name": "stdout",
     "output_type": "stream",
     "text": [
      "[[2.000e+00 0.000e+00 0.000e+00 ... 0.000e+00 0.000e+00 0.000e+00]\n",
      " [0.000e+00 2.000e+00 0.000e+00 ... 0.000e+00 0.000e+00 0.000e+00]\n",
      " [0.000e+00 0.000e+00 2.000e+00 ... 0.000e+00 0.000e+00 0.000e+00]\n",
      " ...\n",
      " [0.000e+00 0.000e+00 0.000e+00 ... 4.472e+03 0.000e+00 0.000e+00]\n",
      " [0.000e+00 0.000e+00 0.000e+00 ... 0.000e+00 4.472e+03 0.000e+00]\n",
      " [0.000e+00 0.000e+00 0.000e+00 ... 0.000e+00 0.000e+00 4.472e+03]]\n"
     ]
    }
   ],
   "source": [
    "callG_hat = callG + np.matrix(np.eye(callG.shape[0]))\n",
    "DcallG_hat = np.sum(np.array(callG_hat), axis=0)\n",
    "DcallG_hat = np.matrix(np.diag(DcallG_hat))\n",
    "print(DcallG_hat)\n",
    "\n",
    "Icall = np.matrix(np.eye(callG.shape[0]))\n",
    "W1 = np.random.normal(loc=0, scale=1, size=(callGraph.number_of_nodes(),128))\n",
    "W2 = np.random.normal(loc=0, scale=1, size=(128,4))\n",
    "W3 = np.random.normal(loc=0, scale=1, size=(4,2))\n",
    "\n",
    "H1 = gcn_layer(callG_hat, DcallG_hat, Icall, W1)\n",
    "H2 = gcn_layer(callG_hat, DcallG_hat, H1, W2)\n",
    "H3 = gcn_layer(callG_hat, DcallG_hat, relu(H2), W3)\n",
    "\n",
    "H3 = np.tanh(H3)\n",
    "\n",
    "#H_1 = gcn_layer(A_h, D_h, I, W_1)\n",
    "#H_2 = gcn_layer(A_h, D_h, H_1, W_2)"
   ]
  },
  {
   "cell_type": "code",
   "execution_count": 17,
   "metadata": {},
   "outputs": [
    {
     "name": "stdout",
     "output_type": "stream",
     "text": [
      "5275\n",
      "14791447\n"
     ]
    },
    {
     "data": {
      "image/png": "[encoded data removed]",
      "text/plain": [
       "<Figure size 432x288 with 1 Axes>"
      ]
     },
     "metadata": {
      "needs_background": "light"
     },
     "output_type": "display_data"
    }
   ],
   "source": [
    "plt.plot(H3[:,0],H3[:,1],'.')\n",
    "print(callGraph.number_of_nodes())\n",
    "print(callGraph.number_of_edges())"
   ]
  },
  {
   "cell_type": "code",
   "execution_count": 18,
   "metadata": {},
   "outputs": [
    {
     "data": {
      "text/plain": [
       "array(['EREXYIPYZS', 'WTKTAXKIIU', 'WTKTAXKIIU', ..., 'EDTKAAGAZN',\n",
       "       'EDTKAAGAZN', 'EDTKAAGAZN'], dtype='<U10')"
      ]
     },
     "execution_count": 18,
     "metadata": {},
     "output_type": "execute_result"
    }
   ],
   "source": [
    "meetGraph = np.loadtxt('meet_codes.csv',dtype=str)\n",
    "meetGraph"
   ]
  },
  {
   "cell_type": "code",
   "execution_count": 19,
   "metadata": {},
   "outputs": [
    {
     "data": {
      "text/html": [
       "<div>\n",
       "<style scoped>\n",
       "    .dataframe tbody tr th:only-of-type {\n",
       "        vertical-align: middle;\n",
       "    }\n",
       "\n",
       "    .dataframe tbody tr th {\n",
       "        vertical-align: top;\n",
       "    }\n",
       "\n",
       "    .dataframe thead th {\n",
       "        text-align: right;\n",
       "    }\n",
       "</style>\n",
       "<table border=\"1\" class=\"dataframe\">\n",
       "  <thead>\n",
       "    <tr style=\"text-align: right;\">\n",
       "      <th></th>\n",
       "      <th>Date</th>\n",
       "      <th>Event Name</th>\n",
       "      <th>Event Description</th>\n",
       "      <th>Meeting Code</th>\n",
       "      <th>Participant Identifier</th>\n",
       "      <th>Participant Outside Organisation</th>\n",
       "      <th>Client Type</th>\n",
       "      <th>Organizer Email</th>\n",
       "      <th>Product Type</th>\n",
       "      <th>Duration</th>\n",
       "      <th>...</th>\n",
       "      <th>Video Receive Duration</th>\n",
       "      <th>Video Receive Short Side Median</th>\n",
       "      <th>Network Congestion Ratio</th>\n",
       "      <th>Video Send Bitrate Mean in kbps</th>\n",
       "      <th>Video Send FPS Mean</th>\n",
       "      <th>Video Send Long Side Median</th>\n",
       "      <th>Video Send Packet Loss Max</th>\n",
       "      <th>Video Send Packet Loss Mean</th>\n",
       "      <th>Video Send Duration</th>\n",
       "      <th>Video Send Short Side Median</th>\n",
       "    </tr>\n",
       "  </thead>\n",
       "  <tbody>\n",
       "    <tr>\n",
       "      <th>0</th>\n",
       "      <td>Oct 10, 2020, 11:46:27 AM GMT+5:30</td>\n",
       "      <td>Endpoint left</td>\n",
       "      <td>The endpoint left a video meeting</td>\n",
       "      <td>EREXYIPYZS</td>\n",
       "      <td>201852001@iiitvadodara.ac.in</td>\n",
       "      <td>No</td>\n",
       "      <td>Android</td>\n",
       "      <td>201852020@iiitvadodara.ac.in</td>\n",
       "      <td>Google Meet</td>\n",
       "      <td>1057.0</td>\n",
       "      <td>...</td>\n",
       "      <td>0.0</td>\n",
       "      <td>NaN</td>\n",
       "      <td>0.0</td>\n",
       "      <td>NaN</td>\n",
       "      <td>NaN</td>\n",
       "      <td>NaN</td>\n",
       "      <td>NaN</td>\n",
       "      <td>NaN</td>\n",
       "      <td>0.0</td>\n",
       "      <td>NaN</td>\n",
       "    </tr>\n",
       "    <tr>\n",
       "      <th>1</th>\n",
       "      <td>Oct 10, 2020, 11:45:38 AM GMT+5:30</td>\n",
       "      <td>Endpoint left</td>\n",
       "      <td>The endpoint left a video meeting</td>\n",
       "      <td>WTKTAXKIIU</td>\n",
       "      <td>NaN</td>\n",
       "      <td>Yes</td>\n",
       "      <td>Android</td>\n",
       "      <td>NaN</td>\n",
       "      <td>Google Meet</td>\n",
       "      <td>1376.0</td>\n",
       "      <td>...</td>\n",
       "      <td>1020.0</td>\n",
       "      <td>352.0</td>\n",
       "      <td>0.0</td>\n",
       "      <td>161.0</td>\n",
       "      <td>4.0</td>\n",
       "      <td>320.0</td>\n",
       "      <td>0.0</td>\n",
       "      <td>0.0</td>\n",
       "      <td>30.0</td>\n",
       "      <td>176.0</td>\n",
       "    </tr>\n",
       "    <tr>\n",
       "      <th>2</th>\n",
       "      <td>Oct 10, 2020, 11:44:09 AM GMT+5:30</td>\n",
       "      <td>Endpoint left</td>\n",
       "      <td>The endpoint left a video meeting</td>\n",
       "      <td>WTKTAXKIIU</td>\n",
       "      <td>NaN</td>\n",
       "      <td>Yes</td>\n",
       "      <td>Web</td>\n",
       "      <td>NaN</td>\n",
       "      <td>Google Meet</td>\n",
       "      <td>1942.0</td>\n",
       "      <td>...</td>\n",
       "      <td>789.0</td>\n",
       "      <td>176.0</td>\n",
       "      <td>0.0</td>\n",
       "      <td>NaN</td>\n",
       "      <td>NaN</td>\n",
       "      <td>NaN</td>\n",
       "      <td>NaN</td>\n",
       "      <td>NaN</td>\n",
       "      <td>0.0</td>\n",
       "      <td>NaN</td>\n",
       "    </tr>\n",
       "    <tr>\n",
       "      <th>3</th>\n",
       "      <td>Oct 10, 2020, 11:40:06 AM GMT+5:30</td>\n",
       "      <td>Endpoint left</td>\n",
       "      <td>The endpoint left a video meeting</td>\n",
       "      <td>WTKTAXKIIU</td>\n",
       "      <td>pk_ahluwalia@iiitvadodara.ac.in</td>\n",
       "      <td>No</td>\n",
       "      <td>Web</td>\n",
       "      <td>NaN</td>\n",
       "      <td>Google Meet</td>\n",
       "      <td>334.0</td>\n",
       "      <td>...</td>\n",
       "      <td>169.0</td>\n",
       "      <td>176.0</td>\n",
       "      <td>29.0</td>\n",
       "      <td>259.0</td>\n",
       "      <td>10.0</td>\n",
       "      <td>320.0</td>\n",
       "      <td>35.0</td>\n",
       "      <td>4.0</td>\n",
       "      <td>189.0</td>\n",
       "      <td>180.0</td>\n",
       "    </tr>\n",
       "    <tr>\n",
       "      <th>4</th>\n",
       "      <td>Oct 10, 2020, 11:39:09 AM GMT+5:30</td>\n",
       "      <td>Endpoint left</td>\n",
       "      <td>The endpoint left a video meeting</td>\n",
       "      <td>WTKTAXKIIU</td>\n",
       "      <td>NaN</td>\n",
       "      <td>Yes</td>\n",
       "      <td>Web</td>\n",
       "      <td>NaN</td>\n",
       "      <td>Google Meet</td>\n",
       "      <td>825.0</td>\n",
       "      <td>...</td>\n",
       "      <td>416.0</td>\n",
       "      <td>176.0</td>\n",
       "      <td>0.0</td>\n",
       "      <td>NaN</td>\n",
       "      <td>NaN</td>\n",
       "      <td>NaN</td>\n",
       "      <td>NaN</td>\n",
       "      <td>NaN</td>\n",
       "      <td>0.0</td>\n",
       "      <td>NaN</td>\n",
       "    </tr>\n",
       "  </tbody>\n",
       "</table>\n",
       "<p>5 rows × 59 columns</p>\n",
       "</div>"
      ],
      "text/plain": [
       "                                 Date     Event Name  \\\n",
       "0  Oct 10, 2020, 11:46:27 AM GMT+5:30  Endpoint left   \n",
       "1  Oct 10, 2020, 11:45:38 AM GMT+5:30  Endpoint left   \n",
       "2  Oct 10, 2020, 11:44:09 AM GMT+5:30  Endpoint left   \n",
       "3  Oct 10, 2020, 11:40:06 AM GMT+5:30  Endpoint left   \n",
       "4  Oct 10, 2020, 11:39:09 AM GMT+5:30  Endpoint left   \n",
       "\n",
       "                   Event Description Meeting Code  \\\n",
       "0  The endpoint left a video meeting   EREXYIPYZS   \n",
       "1  The endpoint left a video meeting   WTKTAXKIIU   \n",
       "2  The endpoint left a video meeting   WTKTAXKIIU   \n",
       "3  The endpoint left a video meeting   WTKTAXKIIU   \n",
       "4  The endpoint left a video meeting   WTKTAXKIIU   \n",
       "\n",
       "            Participant Identifier Participant Outside Organisation  \\\n",
       "0     201852001@iiitvadodara.ac.in                               No   \n",
       "1                              NaN                              Yes   \n",
       "2                              NaN                              Yes   \n",
       "3  pk_ahluwalia@iiitvadodara.ac.in                               No   \n",
       "4                              NaN                              Yes   \n",
       "\n",
       "  Client Type               Organizer Email Product Type  Duration  ...  \\\n",
       "0     Android  201852020@iiitvadodara.ac.in  Google Meet    1057.0  ...   \n",
       "1     Android                           NaN  Google Meet    1376.0  ...   \n",
       "2         Web                           NaN  Google Meet    1942.0  ...   \n",
       "3         Web                           NaN  Google Meet     334.0  ...   \n",
       "4         Web                           NaN  Google Meet     825.0  ...   \n",
       "\n",
       "   Video Receive Duration Video Receive Short Side Median  \\\n",
       "0                     0.0                             NaN   \n",
       "1                  1020.0                           352.0   \n",
       "2                   789.0                           176.0   \n",
       "3                   169.0                           176.0   \n",
       "4                   416.0                           176.0   \n",
       "\n",
       "  Network Congestion Ratio Video Send Bitrate Mean in kbps  \\\n",
       "0                      0.0                             NaN   \n",
       "1                      0.0                           161.0   \n",
       "2                      0.0                             NaN   \n",
       "3                     29.0                           259.0   \n",
       "4                      0.0                             NaN   \n",
       "\n",
       "  Video Send FPS Mean  Video Send Long Side Median Video Send Packet Loss Max  \\\n",
       "0                 NaN                          NaN                        NaN   \n",
       "1                 4.0                        320.0                        0.0   \n",
       "2                 NaN                          NaN                        NaN   \n",
       "3                10.0                        320.0                       35.0   \n",
       "4                 NaN                          NaN                        NaN   \n",
       "\n",
       "   Video Send Packet Loss Mean  Video Send Duration  \\\n",
       "0                          NaN                  0.0   \n",
       "1                          0.0                 30.0   \n",
       "2                          NaN                  0.0   \n",
       "3                          4.0                189.0   \n",
       "4                          NaN                  0.0   \n",
       "\n",
       "   Video Send Short Side Median  \n",
       "0                           NaN  \n",
       "1                         176.0  \n",
       "2                           NaN  \n",
       "3                         180.0  \n",
       "4                           NaN  \n",
       "\n",
       "[5 rows x 59 columns]"
      ]
     },
     "execution_count": 19,
     "metadata": {},
     "output_type": "execute_result"
    }
   ],
   "source": [
    "import pandas as pd\n",
    "meetGraph1 = pd.read_csv('meet_logs_1602310788791.csv')\n",
    "meetGraph1.head()"
   ]
  },
  {
   "cell_type": "code",
   "execution_count": 20,
   "metadata": {},
   "outputs": [
    {
     "data": {
      "text/plain": [
       "691"
      ]
     },
     "execution_count": 20,
     "metadata": {},
     "output_type": "execute_result"
    }
   ],
   "source": [
    "df = pd.DataFrame(meetGraph1)\n",
    "df['Participant Identifier'].unique().size"
   ]
  },
  {
   "cell_type": "code",
   "execution_count": null,
   "metadata": {},
   "outputs": [],
   "source": []
  }
 ],
 "metadata": {
  "kernelspec": {
   "display_name": "Python 3",
   "language": "python",
   "name": "python3"
  },
  "language_info": {
   "codemirror_mode": {
    "name": "ipython",
    "version": 3
   },
   "file_extension": ".py",
   "mimetype": "text/x-python",
   "name": "python",
   "nbconvert_exporter": "python",
   "pygments_lexer": "ipython3",
   "version": "3.7.9"
  }
 },
 "nbformat": 4,
 "nbformat_minor": 4
}
